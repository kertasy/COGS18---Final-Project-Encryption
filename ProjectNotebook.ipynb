{
 "cells": [
  {
   "cell_type": "markdown",
   "metadata": {},
   "source": [
    "# Project Description"
   ]
  },
  {
   "cell_type": "markdown",
   "metadata": {},
   "source": [
    "## Encryption!\n",
    "\n",
    "I always found deciphering secret messages a really fun activity. As such, I was eager to learn more about how to create encryption styles or utilize them to make or decode secret messages. This is what inspired my project, which focuses on different types of encryption. \n",
    "\n",
    "### Encryption Types:\n",
    "\n",
    "1. My first type of encryption was a combination of the two types we learned in class (atbash and the chr(ord) encryption that involved a key, found in assignment 2). However, to include my own twist, I wanted to add a numerical aspect to this combination. As such, my new type of encryption involves inputting a string, using atbash encryption on that string, then using the chr(ord) encryption style on the new string, and finally converting those numbers into a list of numbers that represents each letter of the original string. \n",
    "\n",
    "2. My second encryption type was binary code, which would also turn a provided string into a list of binary numbers that corresponded to each letter of the original string. \n",
    "\n",
    "### Decryption:\n",
    "\n",
    "Since we cannot have encryption without decryption, I also made one decryption function.\n",
    "\n",
    "- This decryption function focuses on decrypting my first encryption type. By inputting the a list of numbers, the user will be able to find out the string of letters that the numbers create when joined together and decrypted. \n",
    "\n",
    "### Combination:\n",
    "\n",
    "Finally, I made a function that incorporates my two encryption types above. \n",
    "\n",
    "- This function allows the user to input a string and then choose whether or not to use the first encryption type or the binary encryption type to create a secret message in the form of a list of numbers. \n",
    "\n",
    "\n",
    "#### Note: \n",
    "- ChatGPT was used to generate numpy-style docstrings. The docstrings were reviewed and edited after their generation \n",
    "- From this course, code from Lecture Notes 15-Coding Project and Assignment 2 was used\n",
    "- From the website Geeks for Geeks, code to create binary code from a string was also used (website and more information found in the binary_encoder function and its docstring)"
   ]
  },
  {
   "cell_type": "markdown",
   "metadata": {},
   "source": [
    "## Project Code\n",
    "\n",
    "If it makes sense for your project, you can have code and outputs here in the notebook as well."
   ]
  },
  {
   "cell_type": "code",
   "execution_count": 1,
   "metadata": {},
   "outputs": [],
   "source": [
    "from my_module.functions import new_encoder, new_decoder, binary_encoder, encryption"
   ]
  },
  {
   "cell_type": "code",
   "execution_count": 2,
   "metadata": {},
   "outputs": [
    {
     "data": {
      "text/plain": [
       "[315, 318, 311, 311, 308]"
      ]
     },
     "execution_count": 2,
     "metadata": {},
     "output_type": "execute_result"
    }
   ],
   "source": [
    "# run this cell to encrypt a string, specifying the new encryption type\n",
    "encryption('hello', 'new_encryption')"
   ]
  },
  {
   "cell_type": "code",
   "execution_count": 3,
   "metadata": {},
   "outputs": [
    {
     "data": {
      "text/plain": [
       "['01101000', '01100101', '01101100', '01101100', '01101111']"
      ]
     },
     "execution_count": 3,
     "metadata": {},
     "output_type": "execute_result"
    }
   ],
   "source": [
    "# run this cell to encrypt a string, specifying the binary encryption type\n",
    "encryption('hello', 'binary_encryption')"
   ]
  },
  {
   "cell_type": "code",
   "execution_count": 4,
   "metadata": {},
   "outputs": [
    {
     "data": {
      "text/plain": [
       "\"Please specify 'new_encryption' or 'binary_encryption' for your method of encryption\""
      ]
     },
     "execution_count": 4,
     "metadata": {},
     "output_type": "execute_result"
    }
   ],
   "source": [
    "# run this cell to see what happens when neither encryption type is used\n",
    "encryption('hello', 'augh')"
   ]
  },
  {
   "cell_type": "code",
   "execution_count": 5,
   "metadata": {},
   "outputs": [
    {
     "data": {
      "text/plain": [
       "'hello'"
      ]
     },
     "execution_count": 5,
     "metadata": {},
     "output_type": "execute_result"
    }
   ],
   "source": [
    "# run this cell to see how the decoder works in decoding a list corresponding the the new encryption type\n",
    "new_decoder([315, 318, 311, 311, 308])"
   ]
  },
  {
   "cell_type": "code",
   "execution_count": 6,
   "metadata": {},
   "outputs": [
    {
     "data": {
      "text/plain": [
       "'Please input a list'"
      ]
     },
     "execution_count": 6,
     "metadata": {},
     "output_type": "execute_result"
    }
   ],
   "source": [
    "# run this cell to see what happens when a list is not input into the decoding function\n",
    "new_decoder('hello')"
   ]
  },
  {
   "cell_type": "code",
   "execution_count": 7,
   "metadata": {},
   "outputs": [
    {
     "name": "stdout",
     "output_type": "stream",
     "text": [
      "\u001b[1m============================= test session starts ==============================\u001b[0m\n",
      "platform linux -- Python 3.9.5, pytest-8.0.2, pluggy-1.4.0\n",
      "rootdir: /home/jezhen/Project_COGS18_SP24\n",
      "plugins: anyio-3.2.1\n",
      "collected 4 items                                                              \u001b[0m\n",
      "\n",
      "my_module/test_functions.py \u001b[32m.\u001b[0m\u001b[32m.\u001b[0m\u001b[32m.\u001b[0m\u001b[32m.\u001b[0m\u001b[32m                                         [100%]\u001b[0m\n",
      "\n",
      "\u001b[32m============================== \u001b[32m\u001b[1m4 passed\u001b[0m\u001b[32m in 0.13s\u001b[0m\u001b[32m ===============================\u001b[0m\n"
     ]
    }
   ],
   "source": [
    "!pytest"
   ]
  },
  {
   "cell_type": "markdown",
   "metadata": {},
   "source": [
    "#### Extra Credit (*optional*)\n",
    "\n",
    "Before entering this course, I had no experience with coding at all and only had a few introductory coding.org classes in elementary school that I have no recollection of to this day. However, this project challenged me to learn more about encryption and ciphers, which are key parts of everyday life, especially for internet functions. In particular, I had to spend over 10 hours to code my functions, learn about the ASCII system, debug the numerical restrictions of said system, and learn how to create a function that would produce binary code.  "
   ]
  }
 ],
 "metadata": {
  "kernelspec": {
   "display_name": "Python 3 (ipykernel)",
   "language": "python",
   "name": "python3"
  },
  "language_info": {
   "codemirror_mode": {
    "name": "ipython",
    "version": 3
   },
   "file_extension": ".py",
   "mimetype": "text/x-python",
   "name": "python",
   "nbconvert_exporter": "python",
   "pygments_lexer": "ipython3",
   "version": "3.9.5"
  }
 },
 "nbformat": 4,
 "nbformat_minor": 2
}
